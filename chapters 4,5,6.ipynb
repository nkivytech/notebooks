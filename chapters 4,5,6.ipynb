{
 "cells": [
  {
   "cell_type": "markdown",
   "id": "cadfaaea",
   "metadata": {},
   "source": [
    "4.1"
   ]
  },
  {
   "cell_type": "code",
   "execution_count": 8,
   "id": "83c99888",
   "metadata": {},
   "outputs": [
    {
     "name": "stdout",
     "output_type": "stream",
     "text": [
      "too low\n"
     ]
    }
   ],
   "source": [
    "secret = 8\n",
    "guess = 4\n",
    "\n",
    "if guess < secret:\n",
    "    print(\"too low\")\n",
    "    \n",
    "elif guess > secret:\n",
    "    print(\"too high\")\n",
    "    \n",
    "else: \n",
    "    print(\"just right\")\n"
   ]
  },
  {
   "cell_type": "markdown",
   "id": "e8b91e53",
   "metadata": {},
   "source": [
    "4.2"
   ]
  },
  {
   "cell_type": "code",
   "execution_count": 18,
   "id": "57d14028",
   "metadata": {},
   "outputs": [
    {
     "name": "stdout",
     "output_type": "stream",
     "text": [
      "Cherry\n"
     ]
    }
   ],
   "source": [
    "small = True\n",
    "green = False\n",
    "\n",
    "if small == True:\n",
    "    if green == False:\n",
    "        print(\"Cherry\")\n",
    "    else:\n",
    "        print(\"Pea\")\n",
    "else:\n",
    "    if green == True:\n",
    "        print(\"Watermellon\")\n",
    "    else:\n",
    "        print(\"Pumpkin\")"
   ]
  },
  {
   "cell_type": "markdown",
   "id": "16513cdf",
   "metadata": {},
   "source": [
    "6.1"
   ]
  },
  {
   "cell_type": "code",
   "execution_count": 19,
   "id": "886312bb",
   "metadata": {},
   "outputs": [
    {
     "name": "stdout",
     "output_type": "stream",
     "text": [
      "3\n",
      "2\n",
      "1\n",
      "0\n"
     ]
    }
   ],
   "source": [
    "List = [3,2,1,0]\n",
    "\n",
    "for i in List:\n",
    "    print(i)"
   ]
  },
  {
   "cell_type": "markdown",
   "id": "0eea41f6",
   "metadata": {},
   "source": [
    "6.2"
   ]
  },
  {
   "cell_type": "code",
   "execution_count": 22,
   "id": "eda0e888",
   "metadata": {},
   "outputs": [
    {
     "name": "stdout",
     "output_type": "stream",
     "text": [
      "too low\n",
      "too low\n",
      "too low\n",
      "too low\n",
      "too low\n",
      "too low\n",
      "found it!\n"
     ]
    }
   ],
   "source": [
    "guess_me = 7\n",
    "number = 1\n",
    "\n",
    "while number > guess_me:\n",
    "    print('oops')\n",
    "    break\n",
    "\n",
    "while number < guess_me:\n",
    "    print('too low')\n",
    "    number += 1\n",
    "    \n",
    "while number == guess_me:\n",
    "    print('found it!')\n",
    "    break\n",
    "    "
   ]
  },
  {
   "cell_type": "markdown",
   "id": "9b94ad14",
   "metadata": {},
   "source": [
    "6.3"
   ]
  },
  {
   "cell_type": "code",
   "execution_count": 25,
   "id": "ad7d30e8",
   "metadata": {},
   "outputs": [
    {
     "name": "stdout",
     "output_type": "stream",
     "text": [
      "too low\n",
      "0\n",
      "too low\n",
      "1\n",
      "too low\n",
      "2\n",
      "too low\n",
      "3\n",
      "too low\n",
      "4\n",
      "found it!\n"
     ]
    }
   ],
   "source": [
    "guess_me = 5\n",
    "\n",
    "for number in range(10):\n",
    "    if number > guess_me:\n",
    "        print('oops')\n",
    "        break\n",
    "    if number < guess_me:\n",
    "        print('too low')\n",
    "        number += 1\n",
    "    if number == guess_me:\n",
    "        print('found it!')\n",
    "        break\n"
   ]
  }
 ],
 "metadata": {
  "kernelspec": {
   "display_name": "Python 3 (ipykernel)",
   "language": "python",
   "name": "python3"
  },
  "language_info": {
   "codemirror_mode": {
    "name": "ipython",
    "version": 3
   },
   "file_extension": ".py",
   "mimetype": "text/x-python",
   "name": "python",
   "nbconvert_exporter": "python",
   "pygments_lexer": "ipython3",
   "version": "3.11.5"
  }
 },
 "nbformat": 4,
 "nbformat_minor": 5
}
