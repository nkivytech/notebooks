{
 "cells": [
  {
   "cell_type": "markdown",
   "id": "48a68340",
   "metadata": {},
   "source": [
    "11.1"
   ]
  },
  {
   "cell_type": "code",
   "execution_count": 5,
   "id": "0edb3794",
   "metadata": {
    "scrolled": true
   },
   "outputs": [
    {
     "name": "stdout",
     "output_type": "stream",
     "text": [
      " Open 9-5 daily \n"
     ]
    }
   ],
   "source": [
    "import zoo\n",
    "\n",
    "zoo.hours()\n",
    "\n"
   ]
  },
  {
   "cell_type": "markdown",
   "id": "6f8ec53f",
   "metadata": {},
   "source": [
    "11.2"
   ]
  },
  {
   "cell_type": "code",
   "execution_count": 6,
   "id": "1f57dc39",
   "metadata": {},
   "outputs": [
    {
     "name": "stdout",
     "output_type": "stream",
     "text": [
      " Open 9-5 daily \n"
     ]
    }
   ],
   "source": [
    "import zoo as menagerie\n",
    "\n",
    "menagerie.hours()"
   ]
  },
  {
   "cell_type": "markdown",
   "id": "c47d9325",
   "metadata": {},
   "source": [
    "16.8"
   ]
  },
  {
   "cell_type": "code",
   "execution_count": 7,
   "id": "c8a9d957",
   "metadata": {},
   "outputs": [],
   "source": [
    "import sqlite3\n",
    "import csv\n",
    "\n",
    "booksDict = {}\n",
    "\n",
    "booksQuery = \"INSERT INTO books VALUES \"\n",
    "\n",
    "with open('books.csv', newline='') as csvfile:\n",
    "\n",
    "    booksDict = csv.DictReader(csvfile)\n",
    "    \n",
    "    for book in booksDict:\n",
    "       booksQuery += \"('\" + book[\"title\"] + \"', '\" + book[\"author\"] + \"', \" + book[\"year\"] + \"),\"\n",
    "        \n",
    "booksQuery = booksQuery[:-1]\n",
    "        \n",
    "con = sqlite3.connect(\"books.db\")\n",
    "cur = con.cursor()\n",
    "\n",
    "cur.execute(\"DROP TABLE books\")\n",
    "\n",
    "cur.execute(\"CREATE TABLE books(title, author, year)\")\n",
    "\n",
    "cur.execute(booksQuery)\n",
    "con.commit()\n",
    "\n",
    "res = cur.execute(\"SELECT * FROM books\")\n",
    "res.fetchall()\n"
   ]
  },
  {
   "cell_type": "code",
   "execution_count": null,
   "id": "f5dfa3bc",
   "metadata": {},
   "outputs": [],
   "source": [
    "con.close()"
   ]
  },
  {
   "cell_type": "code",
   "execution_count": null,
   "id": "c700519b",
   "metadata": {},
   "outputs": [],
   "source": [
    "import sqlalchemy\n",
    "\n",
    "engine = sqlalchemy.create_engine(\"sqlite:///books.db\")\n",
    "\n",
    "with engine.connect() as conn:\n",
    "    result = conn.execute(sqlalchemy.text(\"SELECT title FROM books ORDER BY title asc\"))\n",
    "    for row in result:\n",
    "        print(row.title)"
   ]
  }
 ],
 "metadata": {
  "kernelspec": {
   "display_name": "Python 3 (ipykernel)",
   "language": "python",
   "name": "python3"
  },
  "language_info": {
   "codemirror_mode": {
    "name": "ipython",
    "version": 3
   },
   "file_extension": ".py",
   "mimetype": "text/x-python",
   "name": "python",
   "nbconvert_exporter": "python",
   "pygments_lexer": "ipython3",
   "version": "3.11.5"
  }
 },
 "nbformat": 4,
 "nbformat_minor": 5
}
