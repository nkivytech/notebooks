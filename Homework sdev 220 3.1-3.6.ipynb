{
 "cells": [
  {
   "cell_type": "markdown",
   "id": "64a45c6b",
   "metadata": {},
   "source": [
    "Homework sdev220 3.1-3.6 nkickbush"
   ]
  },
  {
   "cell_type": "code",
   "execution_count": 3,
   "id": "8e562940",
   "metadata": {
    "scrolled": true
   },
   "outputs": [
    {
     "name": "stdout",
     "output_type": "stream",
     "text": [
      "3600\n",
      "86400\n",
      "86400\n",
      "24.0\n",
      "24\n"
     ]
    }
   ],
   "source": [
    "#3.1\n",
    "seconds_per_minute = 60\n",
    "minutes_per_hour = 60\n",
    "print(seconds_per_minute * minutes_per_hour)\n",
    "#3.2\n",
    "seconds_per_hour = seconds_per_minute * minutes_per_hour\n",
    "#3.3\n",
    "print(seconds_per_hour * 24)\n",
    "#3.4\n",
    "seconds_per_day = seconds_per_hour * 24\n",
    "print(seconds_per_day)\n",
    "#3.5\n",
    "print(seconds_per_day / seconds_per_hour)\n",
    "#3.6\n",
    "print(seconds_per_day // seconds_per_hour)\n",
    "#There is no difference."
   ]
  }
 ],
 "metadata": {
  "kernelspec": {
   "display_name": "Python 3 (ipykernel)",
   "language": "python",
   "name": "python3"
  },
  "language_info": {
   "codemirror_mode": {
    "name": "ipython",
    "version": 3
   },
   "file_extension": ".py",
   "mimetype": "text/x-python",
   "name": "python",
   "nbconvert_exporter": "python",
   "pygments_lexer": "ipython3",
   "version": "3.11.5"
  }
 },
 "nbformat": 4,
 "nbformat_minor": 5
}
