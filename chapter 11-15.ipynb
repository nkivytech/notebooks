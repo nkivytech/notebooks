{
 "cells": [
  {
   "cell_type": "code",
   "execution_count": null,
   "metadata": {},
   "outputs": [],
   "source": [
    "import multiprocessing\n",
    "import os\n",
    "from datetime import datetime\n",
    "import time\n",
    "import random\n",
    "\n",
    "def current_time(duration):\n",
    "    time.sleep(duration)\n",
    "    print(datetime.now())\n",
    "    \n",
    "if __name__ == \"__main__\":\n",
    "    for i in range(3):\n",
    "        p = multiprocessing.Process(target=current_time, args=(random.randrange(0,1), ))\n",
    "        p.start()\n"
   ]
  }
 ],
 "metadata": {
  "language_info": {
   "name": "python"
  }
 },
 "nbformat": 4,
 "nbformat_minor": 2
}
